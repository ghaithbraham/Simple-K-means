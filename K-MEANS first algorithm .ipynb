{
 "cells": [
  {
   "cell_type": "code",
   "execution_count": 2,
   "metadata": {},
   "outputs": [],
   "source": [
    "\n",
    "#IMPORTING THE REQUIRED LIBRARIES \n",
    "\n",
    "from sklearn.cluster import KMeans\n",
    "from sklearn import metrics \n",
    "from scipy.spatial.distance import cdist \n",
    "import numpy as np  \n",
    "import matplotlib.pyplot as plt \n"
   ]
  },
  {
   "cell_type": "code",
   "execution_count": 5,
   "metadata": {},
   "outputs": [
    {
     "data": {
      "text/plain": [
       "<matplotlib.collections.PathCollection at 0x7f94f4b7ba90>"
      ]
     },
     "execution_count": 5,
     "metadata": {},
     "output_type": "execute_result"
    },
    {
     "data": {
      "image/png": "[encoded data removed]",
      "text/plain": [
       "<Figure size 432x288 with 1 Axes>"
      ]
     },
     "metadata": {
      "needs_background": "light"
     },
     "output_type": "display_data"
    }
   ],
   "source": [
    "#CREATING AND VISUALIZING THE DATA \n",
    "\n",
    "#1 CREATING THE DATA \n",
    "\n",
    "x1 = np.array([3,1,1,2,1,6,6,6,5,6,7,8,9,8,9,9,8])\n",
    "x2 = np.array([5,4,5,6,5,8,6,7,6,7,1,2,1,2,3,2,3])\n",
    "\n",
    "# visualizing the data \n",
    "\n",
    "plt.plot()\n",
    "plt.xlim([0, 10])\n",
    "plt.ylim([0, 10])\n",
    "plt.title(\"dataset\")\n",
    "plt.scatter (x1,x2)"
   ]
  },
  {
   "cell_type": "code",
   "execution_count": 6,
   "metadata": {},
   "outputs": [],
   "source": [
    "#from the above visualization , we can see that the optimal number of clusters should be around 3 .\n",
    "#however visualization alone is not enough \n",
    "\n",
    "#A MORE MATHEMATICAL METHOD IS TO CLACULATE THE DISTORTION AND THE INERTIA AND TO PLOT THEM IN FUNCTION OF K\n",
    "\n",
    "# K : is the number of clusters \n",
    "# distortion :is the average of the squared distances from the cluster centers(eucledian distance is used)\n",
    "# Inertia : it is the sum of squared distances of samples to their closest cluster center \n",
    "\n",
    "# STEPS \n",
    "\n",
    "# 1- we iterate the values of K from 1 to 9 (supposedely that K is betwwen 1 and 10 ), we can augment it.\n",
    "# 2-calculate the values of distortions and Inertia for each value of K in the given range (1..10)\n",
    "\n",
    "\n"
   ]
  },
  {
   "cell_type": "code",
   "execution_count": 7,
   "metadata": {},
   "outputs": [],
   "source": [
    "### BUILDING THE CLUSTERING MODEL AND CALCULATING THE VALUES OF THE DISTORTIONS AND INERTIA "
   ]
  },
  {
   "cell_type": "code",
   "execution_count": null,
   "metadata": {},
   "outputs": [],
   "source": []
  }
 ],
 "metadata": {
  "kernelspec": {
   "display_name": "Python 3",
   "language": "python",
   "name": "python3"
  },
  "language_info": {
   "codemirror_mode": {
    "name": "ipython",
    "version": 3
   },
   "file_extension": ".py",
   "mimetype": "text/x-python",
   "name": "python",
   "nbconvert_exporter": "python",
   "pygments_lexer": "ipython3",
   "version": "3.8.3"
  }
 },
 "nbformat": 4,
 "nbformat_minor": 4
}
